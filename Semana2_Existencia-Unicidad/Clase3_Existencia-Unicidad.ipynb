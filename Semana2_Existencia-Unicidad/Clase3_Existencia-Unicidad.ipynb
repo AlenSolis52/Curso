{
 "cells": [
  {
   "cell_type": "markdown",
   "id": "eff612a3",
   "metadata": {},
   "source": [
    "# <span style=\"font-family:Georgia; text-align:center;\">Teorema de existencia y unicidad</span> \n",
    "<span style=\"font-family:Georgia;\">\n",
    "\n",
    "## Definición \n",
    "\n",
    "Sea $D \\subseteq \\mathbb{R}^2$ y $f:D \\to \\mathbb{R}$. Decimos que $f$ es **Lipschitz local en $y$** en $D$ si para **cada** $(t_0,y_0)\\in D$ existe un rectángulo\n",
    "$$\n",
    "U = I\\times J \\subset D \\quad (\\text{con } t_0\\in I,\\; y_0\\in J)\n",
    "$$\n",
    "y una constante $L_U\\ge 0$ tal que\n",
    "$$\n",
    "|f(t,y_1)-f(t,y_2)| \\le L_U\\,|y_1-y_2| \\quad\n",
    "\\text{para todo } t\\in I,\\; y_1,y_2\\in J.\n",
    "$$"
   ]
  },
  {
   "cell_type": "markdown",
   "id": "839cd13d",
   "metadata": {},
   "source": [
    "<span style=\"font-family:Georgia;\">\n",
    "\n",
    "## Teorema de Existencia y Unicidad (local)\n",
    "Sea\n",
    "$$\n",
    "D=\\{(t,y)\\in\\mathbb{R}^2 \\mid a \\le t \\le b,\\; -\\infty<y<\\infty\\},\n",
    "$$\n",
    "y sea $f:D\\to\\mathbb{R}$ una función continua en $t$ que **satisface la condición de Lipschitz localmente en la variable $y$**. Entonces, para cualquier $y_0\\in\\mathbb{R}$, existe $\\varepsilon >0$ tal que el **problema de valor inicial (PVI)**\n",
    "$$\n",
    "\\begin{aligned}\n",
    "y'(t)&=f(t,y(t)), \\quad t\\in(a,b),\\\\\n",
    "y(t_0)&=y_0,\n",
    "\\end{aligned}\n",
    "$$\n",
    "tiene **una única solución** $y:[t_0-\\varepsilon,t_0+\\varepsilon]\\to\\mathbb{R}$, que satisface la ecuación diferencial y la condición inicial."
   ]
  },
  {
   "cell_type": "markdown",
   "id": "46194669",
   "metadata": {},
   "source": [
    "<span style=\"font-family:Georgia;\">\n",
    "\n",
    "### **Proposición.**\n",
    "\n",
    " Si $\\dfrac{\\partial f}{\\partial y}$ existe y es continua en $D$ un conjunto convexo, y además\n",
    "$$\n",
    "\\left|\\frac{\\partial f}{\\partial y}(t,y)\\right| \\le L \\quad \\text{para todo }(t,y)\\in  D,\n",
    "$$\n",
    "entonces\n",
    "$$|f(t,y_1)-f(t,y_2)|\\le L\\,|y_1-y_2|,$$\n",
    "es decir, $f$ es Lipschitz global ($L$ no depende del punto donde estas parado) en $y$ en $D$.\n"
   ]
  },
  {
   "cell_type": "markdown",
   "id": "0e08b681",
   "metadata": {},
   "source": [
    "<span style=\"font-family:Georgia;\">\n",
    "\n",
    "## Teorema de Existencia y Unicidad (global)\n",
    "Si $f$ es continua en $t$ y Lipschitz global en $y$, el PVI\n",
    "$$y'(t)=f(t,y),\\quad y(t_0)=y_0,$$\n",
    "tiene una única solución en todo tiempo $t$.\n"
   ]
  },
  {
   "cell_type": "markdown",
   "id": "649b4a32",
   "metadata": {},
   "source": [
    "# <span style=\"font-family:Georgia; text-align:center;\">Ejemplo A: no unicidad por no-Lipschitz en el origen\n",
    "</span> \n",
    "<span style=\"font-family:Georgia;\">\n",
    "\n",
    "Consideremos el **problema:**\n",
    "$$\n",
    "y'=\\sqrt{y},\\qquad y(0)=0.\n",
    "$$\n",
    "- Es claro que la funcion constante cero $y(t) \\equiv 0$ es una solución al problema.\n",
    "\n",
    "- Para $y\\ge 0$, separando variables:\n",
    "  $$\n",
    "  \\frac{dy}{\\sqrt{y}}=dt \\ \\Rightarrow\\ \\int_{t_0}^{t}\\frac{y'(s)}{\\sqrt{y(s)}}\\,ds=\\int_{t_0}^{t}1\\,ds=t-t_0 \\Rightarrow\\ 2\\sqrt{y(t)}-2\\sqrt{y(0)}=t-0 \\ \\Rightarrow\\ y(t)=\\frac{t^2}{4}.\n",
    "  $$\n",
    "- Como $f(y)=\\sqrt{y}$ **no es Lipschitz** en $y=0$ (de hecho $f'(y)=\\tfrac{1}{2\\sqrt{y}}\\to\\infty$), podemos encontrar dos soluciones:\n",
    "  $$\n",
    "  y_1(t) = 0 \n",
    "  $$\n",
    "\n",
    "  $$\n",
    "  y_2(t)=\n",
    "  \\begin{cases}\n",
    "  0, & t\\le 0,\\\\[4pt]\n",
    "  \\dfrac{t^2}{4}, & t\\ge 0,\n",
    "  \\end{cases}\n",
    "  $$\n"
   ]
  },
  {
   "cell_type": "markdown",
   "id": "30c75c3f",
   "metadata": {},
   "source": [
    "# <span style=\"font-family:Georgia; text-align:center;\">Ejemplo B: no globalidad de las soluciones\n",
    "</span> \n",
    "<span style=\"font-family:Georgia;\">\n",
    "\n",
    "Considere el PVI\n",
    "$$\n",
    "\\begin{cases}\n",
    "y'(t)=y(t)^2,\\\\\n",
    "y(0)=1.\n",
    "\\end{cases}\n",
    "$$\n",
    "\n",
    "Resolviendo el problema mediante **separación de variables:** \n",
    "\n",
    "Como $\\dfrac{dy}{dt}=y^2$, se tiene\n",
    "$$\n",
    "\\frac{dy}{y^2}=dt.\n",
    "$$\n",
    "Integramos:\n",
    "$$\n",
    "-\\frac{1}{y}=t+C \\quad \\Longrightarrow \\quad y(t)=\\frac{1}{C-t}.\n",
    "$$\n",
    "Usando la condición inicial $y(0)=1$:\n",
    "$$\n",
    "1=\\frac{1}{C}\\ \\Longrightarrow\\ C=1,\n",
    "$$\n",
    "y por tanto\n",
    "$$\n",
    "\\boxed{\\,y(t)=\\frac{1}{1-t}\\, }.\n",
    "$$\n",
    "\n",
    "La solución está definida donde $1-t\\neq 0$, es decir, en cualquier intervalo que no cruce $t=1$.  \n",
    "Como $0<1$, el **intervalo máximo** que contiene a $t=0$ es $(-\\infty,1)$.  \n",
    "Además,\n",
    "$$\n",
    "\\lim_{t\\to 1^-} y(t)=\\lim_{t\\to 1^-}\\frac{1}{1-t}=+\\infty,\n",
    "$$\n",
    "por lo que **$t=1$ es una asíntota vertical** y la solución **no se puede extender más allá de $t=1$**.  \n",
    "Esto muestra que, aunque $f(t,y)=y^2$ es continua y localmente Lipschitz en $y$, la solución **no es global** (explota en tiempo finito).\n",
    "\n",
    "> Observación: Para $y(0)=y_0>0$ se obtiene $y(t)=\\dfrac{y_0}{1-y_0 t}$ y el tiempo de explosión es $T_\\ast=\\dfrac{1}{y_0}$.\n"
   ]
  },
  {
   "cell_type": "code",
   "execution_count": 16,
   "id": "d85f702d",
   "metadata": {},
   "outputs": [
    {
     "data": {
      "image/png": "[encoded data removed]",
      "text/plain": [
       "<Figure size 640x480 with 1 Axes>"
      ]
     },
     "metadata": {},
     "output_type": "display_data"
    }
   ],
   "source": [
    "import numpy as np\n",
    "import matplotlib.pyplot as plt\n",
    "\n",
    "t = np.linspace(-1, 0.99, 50)  # nos acercamos a t=1 por la izquierda\n",
    "y = 1/(1 - t)\n",
    "\n",
    "plt.plot(t, y)\n",
    "plt.axvline(1,linestyle='--',color='red')        # línea vertical en la asíntota t=1\n",
    "plt.ylim(-2, 20)\n",
    "plt.axhline(0, color='k', linestyle='-', linewidth=1) \n",
    "plt.axvline(0, color='k', linestyle='-', linewidth=1) \n",
    "plt.xlabel('t'); plt.ylabel('y(t)')\n",
    "plt.title('Solución y(t) = 1/(1 - t) con asíntota en t = 1')\n",
    "plt.show()\n"
   ]
  }
 ],
 "metadata": {
  "kernelspec": {
   "display_name": "Python 3",
   "language": "python",
   "name": "python3"
  },
  "language_info": {
   "codemirror_mode": {
    "name": "ipython",
    "version": 3
   },
   "file_extension": ".py",
   "mimetype": "text/x-python",
   "name": "python",
   "nbconvert_exporter": "python",
   "pygments_lexer": "ipython3",
   "version": "3.13.1"
  }
 },
 "nbformat": 4,
 "nbformat_minor": 5
}
