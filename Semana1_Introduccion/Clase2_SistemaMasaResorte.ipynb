{
 "cells": [
  {
   "cell_type": "markdown",
   "id": "1bc8c191",
   "metadata": {},
   "source": [
    "\n",
    "# <span style=\"font-family:Georgia; text-align:center;\">Sistema Masa-Resorte</span> \n",
    "<span style=\"font-family:Georgia;\">\n",
    "\n",
    "Consideramos una sola masa $m$ que puede desplazarse solo a lo largo de una línea horizontal (eje $x$). Denotamos por $x(t)$ la posición del centro de masas y por $x^*$ su posición de equilibrio (punto donde la fuerza neta es cero). Usualmente identificamos a $x^*$ con el cero por simplicidad."
   ]
  },
  {
   "attachments": {
    "diagramaSimple.png": {
     "image/png": "[encoded data removed]"
    }
   },
   "cell_type": "markdown",
   "id": "4546ac88",
   "metadata": {},
   "source": [
    "![diagramaSimple.png](attachment:diagramaSimple.png)"
   ]
  },
  {
   "cell_type": "markdown",
   "id": "670b4d9e",
   "metadata": {},
   "source": [
    "<span style=\"font-family:Georgia;\">\n",
    "\n",
    "La [ley de Hooke](https://en.wikipedia.org/wiki/Hooke%27s_law) nos dice que la fuerza de restauración resultante de un resorte es proporcional a su posición, lo que se traduce en la ecuación. \n",
    "$$\n",
    "F=-k x(t) \n",
    "$$\n",
    "siendo $k$ la constante de proporcionalidad. El signo negativo se puede entender intuitivamente con el diagrama del sistema cuando se cambia la posición $x$. Por ejemplo si la masa está en una posición a la derecha del origen tendremos:\n"
   ]
  },
  {
   "attachments": {
    "diagramaFuerza2.png": {
     "image/png": "[encoded data removed]"
    }
   },
   "cell_type": "markdown",
   "id": "e38c0dc6",
   "metadata": {},
   "source": [
    "![diagramaFuerza2.png](attachment:diagramaFuerza2.png)"
   ]
  },
  {
   "cell_type": "markdown",
   "id": "4f2fd97c",
   "metadata": {},
   "source": [
    "<span style=\"font-family:Georgia;\">\n",
    "\n",
    "El resorte busca restaurarse con una fuerza con dirección negativa. Por otro lado si moviemos la masa a una posición donde el resorte se comprime la fuerza de restauración tendra dirección(signo) positiva."
   ]
  },
  {
   "attachments": {
    "diagramaFuerza1.png": {
     "image/png": "[encoded data removed]"
    }
   },
   "cell_type": "markdown",
   "id": "4d374eeb",
   "metadata": {},
   "source": [
    "![diagramaFuerza1.png](attachment:diagramaFuerza1.png)"
   ]
  },
  {
   "cell_type": "markdown",
   "id": "8e1d8abf",
   "metadata": {},
   "source": [
    "<span style=\"font-family:Georgia;\">\n",
    "\n",
    "La [segunda ley de Newton](https://en.wikipedia.org/wiki/Newton%27s_laws_of_motion) nos dice que esta misma fuerza es el producto entre la masa de y la aceleración. \n",
    "$$\n",
    "F=m x''(t) \n",
    "$$\n",
    "\n",
    "Juntando las dos leyes tenemos la ecuación resultante \n",
    "$$\n",
    "m x''(t)=-k x(t)\n",
    "$$"
   ]
  },
  {
   "cell_type": "markdown",
   "id": "3eb34562",
   "metadata": {},
   "source": [
    "<span style=\"font-family:Georgia;\">\n",
    "\n",
    "Hacemos el cambio de variable **$v(t)=x'(t)$**. Entonces la ecuación\n",
    "$$\n",
    "m\\,x''(t)=-k\\,x(t)\n",
    "$$\n",
    "se escribe como un **sistema lineal de primer orden**:\n",
    "\n",
    "$$\n",
    "\\begin{cases}\n",
    "x'(t) = v(t),\\\\[4pt]\n",
    "v'(t) = -\\dfrac{k}{m}\\,x(t).\n",
    "\\end{cases}\n",
    "$$\n",
    "\n",
    "Con condiciones iniciales $x(0)=x_0$ y $v(0)=v_0$.\n",
    "\n",
    "En forma matricial, con $y(t)=\\begin{pmatrix}x(t)\\\\ v(t)\\end{pmatrix}$,\n",
    "$$\n",
    "y'(t)=A\\,y(t), \n",
    "\\qquad \n",
    "A=\\begin{pmatrix}\n",
    "0 & 1\\\\[2pt]\n",
    "-\\dfrac{k}{m} & 0\n",
    "\\end{pmatrix}.\n",
    "$$\n",
    "\n",
    "Si definimos $\\omega=\\sqrt{\\dfrac{k}{m}}$, el sistema queda\n",
    "$$\n",
    "\\begin{cases}\n",
    "x'(t) = v(t),\\\\[4pt]\n",
    "v'(t) = -\\omega^{2}\\,x(t),\n",
    "\\end{cases}\n",
    "\\qquad\n",
    "A=\\begin{pmatrix}0&1\\\\ -\\omega^2&0\\end{pmatrix}.\n",
    "$$\n"
   ]
  },
  {
   "cell_type": "markdown",
   "id": "2936241e",
   "metadata": {},
   "source": [
    "Para el sistema\n",
    "$$\n",
    "y'(t)=A\\,y(t), \\qquad \n",
    "A=\\begin{pmatrix}0&1\\\\ -\\omega^2&0\\end{pmatrix},\n",
    "\\quad \\omega^2=\\frac{k}{m}>0,\n",
    "$$\n",
    "el **polinomio característico** en dimensión 2 puede escribirse en función de la **traza** $\\tau=\\operatorname{tr}(A)$ y el **determinante** $\\Delta=\\det(A)$:\n",
    "$$\n",
    "p(\\lambda)=\\lambda^2-\\tau\\,\\lambda+\\Delta.\n",
    "$$\n",
    "\n",
    "En nuestro caso\n",
    "$$\n",
    "\\tau=\\operatorname{tr}(A)=0,\\qquad \n",
    "\\Delta=\\det(A)=\\omega^2>0,\n",
    "$$\n",
    "y por tanto\n",
    "$$\n",
    "p(\\lambda)=\\lambda^2+\\omega^2=0\n",
    "\\;\\;\\Longrightarrow\\;\\;\n",
    "\\lambda_{1,2}=\\pm i\\,\\omega.\n",
    "$$\n",
    "\n",
    "Como la **traza** es la suma de los valores propios ($\\lambda_1+\\lambda_2=\\tau=0$) y el **determinante** es su producto ($\\lambda_1\\lambda_2=\\Delta=\\omega^2$), obtenemos dos autovalores **puramente imaginarios** y conjugados.\n",
    "\n",
    "Con $\\Delta>0$ y $\\tau=0$ se tiene un **centro**. El origen es **estable en el sentido de Lyapunov** (órbitas cerradas periódicas), pero **no asintóticamente estable** (no hay decaimiento, al no existir rozamiento). En este sistema lineal, la linealización coincide con el sistema completo, así que la clasificación es global.\n"
   ]
  },
  {
   "cell_type": "markdown",
   "id": "06099e1b",
   "metadata": {},
   "source": [
    "Para sistemas lineales con **valores propios** $\\lambda_i$ y **vectores propios** $v_i$,\n",
    "la solución general es una **combinación lineal de exponenciales** dela forma:\n",
    "$$\n",
    "y(t)=\\sum_i c_i\\,e^{\\lambda_i t}\\,v_i.\n",
    "$$\n"
   ]
  },
  {
   "cell_type": "markdown",
   "id": "5aa1529d",
   "metadata": {},
   "source": [
    "Para obtenes los vectores propios buscamos $A v=\\lambda v$. Si $v=(a,b)^\\top$, entonces\n",
    "$$\n",
    "\\begin{pmatrix}0&1\\\\ -\\omega^2&0\\end{pmatrix}\\!\\begin{pmatrix}a\\\\ b\\end{pmatrix}\n",
    "=\\begin{pmatrix}b\\\\ -\\omega^2 a\\end{pmatrix}\n",
    "=\\lambda\\begin{pmatrix}a\\\\ b\\end{pmatrix}\n",
    "\\Longrightarrow\n",
    "\\begin{cases}\n",
    "b=\\lambda a,\\\\\n",
    "-\\omega^2 a=\\lambda b=\\lambda^2 a.\n",
    "\\end{cases}\n",
    "$$\n",
    "\n",
    "Entonces si $a=1$\n",
    "\n",
    "$$\n",
    "v_1=\\begin{pmatrix}1\\\\ i\\omega\\end{pmatrix},\\qquad\n",
    "v_2=\\begin{pmatrix}1\\\\ -i\\omega\\end{pmatrix}.\n",
    "$$\n",
    "\n",
    "\n",
    "Entonces la Solución general está dada por\n",
    "$$\n",
    "y(t)=c_1 e^{i\\omega t}\\begin{pmatrix}1\\\\ i\\omega\\end{pmatrix}\n",
    "+ c_2 e^{-i\\omega t}\\begin{pmatrix}1\\\\ -i\\omega\\end{pmatrix}.\n",
    "$$\n",
    "Su primera componente es\n",
    "$$\n",
    "x(t)=c_1 e^{i\\omega t}+c_2 e^{-i\\omega t},\\qquad\n",
    "v(t)=x'(t)=i\\omega c_1 e^{i\\omega t}-i\\omega c_2 e^{-i\\omega t}.\n",
    "$$\n",
    "Con $x(0)=x_0$, $v(0)=v_0$:\n",
    "$$\n",
    "c_1+c_2=x_0,\\qquad i\\omega(c_1-c_2)=v_0\n",
    "\\;\\Rightarrow\\;\n",
    "c_1=\\frac{1}{2}\\!\\left(x_0-\\frac{i v_0}{\\omega}\\right),\\;\n",
    "c_2=\\frac{1}{2}\\!\\left(x_0+\\frac{i v_0}{\\omega}\\right).\n",
    "$$\n",
    "\n",
    "Usamos las identidades de Euler\n",
    "$$\n",
    "\\cos\\theta=\\frac{e^{i\\theta}+e^{-i\\theta}}{2},\\qquad\n",
    "\\sin\\theta=\\frac{e^{i\\theta}-e^{-i\\theta}}{2i}.\n",
    "$$\n",
    "\n",
    "**Para $x(t)$:**\n",
    "$$\n",
    "\\begin{aligned}\n",
    "x(t)\n",
    "&=\\frac{x_0}{2}\\bigl(e^{i\\omega t}+e^{-i\\omega t}\\bigr)\n",
    "+\\frac{1}{2}\\!\\left(-\\frac{i v_0}{\\omega}e^{i\\omega t}\n",
    "+\\frac{i v_0}{\\omega}e^{-i\\omega t}\\right)\\\\[2mm]\n",
    "&=x_0\\cos(\\omega t)\n",
    "+\\frac{v_0}{\\omega}\\,\\frac{e^{i\\omega t}-e^{-i\\omega t}}{2i}\\\\[1mm]\n",
    "&=\\boxed{\\,x_0\\cos(\\omega t)+\\dfrac{v_0}{\\omega}\\sin(\\omega t)\\,}.\n",
    "\\end{aligned}\n",
    "$$\n",
    "\n",
    "**Para $v(t)$:**\n",
    "$$\n",
    "\\begin{aligned}\n",
    "v(t)\n",
    "&=i\\omega\\left[\\frac12\\!\\left(x_0-\\frac{i v_0}{\\omega}\\right)e^{i\\omega t}\n",
    "-\\frac12\\!\\left(x_0+\\frac{i v_0}{\\omega}\\right)e^{-i\\omega t}\\right]\\\\[2mm]\n",
    "&=\\frac{i\\omega x_0}{2}\\bigl(e^{i\\omega t}-e^{-i\\omega t}\\bigr)\n",
    "+\\frac{v_0}{2}\\bigl(e^{i\\omega t}+e^{-i\\omega t}\\bigr)\\\\[2mm]\n",
    "&=-\\omega x_0\\,\\frac{e^{i\\omega t}-e^{-i\\omega t}}{2i}\n",
    "+v_0\\,\\frac{e^{i\\omega t}+e^{-i\\omega t}}{2}\\\\[1mm]\n",
    "&=\\boxed{\\, -\\omega x_0\\sin(\\omega t)+v_0\\cos(\\omega t)\\,}.\n",
    "\\end{aligned}\n",
    "$$\n",
    "\n",
    "Observa que, como $c_2=\\overline{c_1}$ cuando $x_0,v_0\\in\\mathbb{R}$, la combinación\n",
    "$c_1 e^{i\\omega t}+c_2 e^{-i\\omega t}$ es real para todo $t$, y las fórmulas obtenidas son la\n",
    "**solución física real**.\n",
    "\n",
    "$$\n",
    "\\boxed{\\,x(t)=x_0\\cos(\\omega t)+\\frac{v_0}{\\omega}\\,\\sin(\\omega t)\\,},\\qquad\n",
    "\\boxed{\\,v(t)=-\\omega x_0\\sin(\\omega t)+v_0\\cos(\\omega t)\\,}.\n",
    "$$"
   ]
  },
  {
   "cell_type": "markdown",
   "id": "d7a3895f",
   "metadata": {},
   "source": [
    "## <span style=\"font-family:Georgia; text-align:center;\">Ejercicio</span>\n",
    "<span style=\"font-family:Georgia;\">\n",
    "\n",
    "- Grafica la posición del resorte en el plano $t$  vs $x$ \n",
    "- Grafica el plano fase \n",
    "- ¿Qué sucede si $x_0=0$?\n",
    "- ¿Qué sucede si $v_0>0$?\n",
    "- ¿Qué interpretación tiene si $v<0$?"
   ]
  },
  {
   "cell_type": "markdown",
   "id": "b64bb73a",
   "metadata": {},
   "source": [
    "## <span style=\"font-family:Georgia; text-align:center;\">Fuerza de rozamiento</span> \n",
    "<span style=\"font-family:Georgia;\">\n",
    "\n",
    "Si consideramos una **fuerza de rozamiento** $F_r$ (p. ej., fricción con el medio o con la superficie), el modelo más simple y habitual para velocidades moderadas es el **rozamiento viscoso lineal**, proporcional y opuesto a la velocidad:\n",
    "$$\n",
    "F_r=-c\\,x'(t),\\qquad c>0.\n",
    "$$\n",
    "Si el **equilibrio está en el origen** ($x^*=0$) y modelamos el **rozamiento viscoso lineal**, la ecuación\n",
    "del movimiento (sin fuerzas externas) es\n",
    "$$\n",
    "m\\,x''(t)+c\\,x'(t)+k\\,x(t)=0,\n",
    "\\qquad m>0,\\;c\\ge 0,\\;k>0.\n",
    "$$\n",
    "\n",
    "En variables de primer orden ($v=x'$) el sistema lineal es\n",
    "$$\n",
    "\\begin{cases}\n",
    "x'(t)=v(t),\\\\[2pt]\n",
    "v'(t)=-\\dfrac{c}{m}\\,v(t)-\\dfrac{k}{m}\\,x(t),\n",
    "\\end{cases}\n",
    "\\qquad\n",
    "A=\\begin{pmatrix}\n",
    "0 & 1\\\\[2pt]\n",
    "-\\dfrac{k}{m} & -\\dfrac{c}{m}\n",
    "\\end{pmatrix}.\n",
    "$$\n",
    "\n",
    "Calculamos:\n",
    "\n",
    "- **Traza**\n",
    "$$\n",
    "\\operatorname{tr}(A)=-\\frac{c}{m}.\n",
    "$$\n",
    "\n",
    "- **Determinante**\n",
    "$$\n",
    "\\det(A)=\\frac{k}{m}.\n",
    "$$\n",
    "\n",
    "Recordemos que, en dimensión $2$, el **polinomio característico** se escribe con traza y determinante como\n",
    "$$\n",
    "p(\\lambda)=\\lambda^{2}-\\operatorname{tr}(A)\\,\\lambda+\\det(A).\n",
    "$$\n",
    "Por tanto,\n",
    "$$\n",
    "\\lambda^{2}-\\Bigl(-\\frac{c}{m}\\Bigr)\\lambda+\\frac{k}{m}=0\n",
    "\\;\\Longrightarrow\\;\n",
    "\\boxed{\\;\\lambda^{2}+\\frac{c}{m}\\,\\lambda+\\frac{k}{m}=0\\;}.\n",
    "$$\n",
    "\n",
    "Aplicando la fórmula cuadrática,\n",
    "$$\n",
    "\\lambda_{1,2}\n",
    "=\\frac{-\\dfrac{c}{m}\\pm\\sqrt{\\left(\\dfrac{c}{m}\\right)^{2}-4\\,\\dfrac{k}{m}}}{2}\n",
    "=-\\frac{c}{2m}\\pm\\sqrt{\\left(\\frac{c}{2m}\\right)^{2}-\\frac{k}{m}}.\n",
    "$$\n",
    "\n",
    "Para simplificar la notación, definimos\n",
    "$$\n",
    "\\alpha=\\frac{c}{2m},\n",
    "\\qquad\n",
    "\\omega_0=\\sqrt{\\frac{k}{m}}.\n",
    "$$\n",
    "Entonces\n",
    "$$\n",
    "\\boxed{\\;\\lambda_{1,2}=-\\alpha\\pm\\sqrt{\\alpha^{2}-\\omega_0^{2}}\\;}\n",
    "$$\n",
    "\n",
    "y se obtienen los tres regímenes habituales:\n",
    "\n",
    "- **Subamortiguado**: $\\alpha^{2}-\\omega_0^{2}<0$,  \n",
    "  $\\lambda_{1,2}=-\\alpha\\pm i\\,\\omega_d$ con $\\omega_d=\\sqrt{\\omega_0^{2}-\\alpha^{2}}$.\n",
    "\n",
    "- **Amortiguamiento crítico**: $\\alpha^{2}-\\omega_0^{2}=0$,  \n",
    "  $\\lambda_1=\\lambda_2=-\\alpha$.\n",
    "\n",
    "- **Sobreamortiguado**: $\\alpha^{2}-\\omega_0^{2}>0$,  \n",
    "  $\\lambda_{1,2}\\in\\mathbb{R}$, distintas y negativas.\n"
   ]
  },
  {
   "cell_type": "markdown",
   "id": "acd650a4",
   "metadata": {},
   "source": [
    "## <span style=\"font-family:Georgia; text-align:center;\">Ejercicio</span>\n",
    "<span style=\"font-family:Georgia;\">\n",
    "\n",
    "- Grafica la posición del resorte en el plano $t$  vs $x$ en los tres casos\n",
    "- Da una interpretación del fenómeno en los tres casos\n",
    "- Identifica los casos en el [video](https://www.youtube.com/watch?v=FgixmWqCwxM) e identificalos. Argumenta tus respuestas"
   ]
  },
  {
   "cell_type": "markdown",
   "id": "2a7b7212",
   "metadata": {},
   "source": [
    "# <span style=\"font-family:Georgia; text-align:center;\">¿Por qué necesitamos métodos numéricos?</span> \n",
    "## <span style=\"font-family:Georgia; text-align:center;\">Fuerza externa</span> \n",
    "<span style=\"font-family:Georgia;\">\n",
    "\n",
    "Si además existe una **fuerza externa** $f(t)$, el modelo estándar es\n",
    "$$\n",
    "m\\,x''+c\\,x'+k\\,x=f(t).\n",
    "$$\n"
   ]
  },
  {
   "cell_type": "markdown",
   "id": "e7f86954",
   "metadata": {},
   "source": [
    "## <span style=\"font-family:Georgia; text-align:center;\">Fuerza de restitución de orden superior</span> \n",
    "<span style=\"font-family:Georgia;\">\n",
    "\n",
    "- Si consideramos un **resorte** con ley de restitución aproximada por el **desarrollo de Taylor** alrededor del equilibrio y truncada en segundo orden:\n",
    "  $$\n",
    "  F(x)=-k\\,x+\\varepsilon\\,x^{2},\\qquad 0<\\varepsilon\\ll 1.\n",
    "  $$\n",
    "Entonces la ecuación de movimiento queda como:\n",
    "$$\n",
    "m\\,x''+c\\,x'+k\\,x-\\varepsilon\\,x^{2}=f(t).\n",
    "$$\n",
    "\n",
    "$\\varepsilon$ es un parámetro pequeño y por lo tanto el término cuadrático solo es relevante para valres grande de $x$, es decir, grandes oscilaciones. "
   ]
  },
  {
   "cell_type": "markdown",
   "id": "21436fb6",
   "metadata": {},
   "source": [
    "# <span style=\"font-family:Georgia; text-align:center;\">Bibliografía</span> \n",
    "<span style=\"font-family:Georgia;\">\n",
    "\n",
    "1. Blanes Zamora, S., Ginestar Peiró, D. & Roselló Ferragud, M.D. Introducción a los métodos numéricos para ecuaciones diferenciales (3.ª ed., Editorial UPV, 2020)."
   ]
  }
 ],
 "metadata": {
  "kernelspec": {
   "display_name": "Python 3",
   "language": "python",
   "name": "python3"
  },
  "language_info": {
   "codemirror_mode": {
    "name": "ipython",
    "version": 3
   },
   "file_extension": ".py",
   "mimetype": "text/x-python",
   "name": "python",
   "nbconvert_exporter": "python",
   "pygments_lexer": "ipython3",
   "version": "3.13.1"
  }
 },
 "nbformat": 4,
 "nbformat_minor": 5
}
