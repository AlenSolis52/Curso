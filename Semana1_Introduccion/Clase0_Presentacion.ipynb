{
 "cells": [
  {
   "cell_type": "markdown",
   "id": "adb91c91",
   "metadata": {},
   "source": [
    "# <span style=\"font-family:Georgia; text-align:center;\">Ecuaciones Diferenciales y Métodos Numéricos</span> \n",
    "\n",
    "<span style=\"font-family:serif; font-size:35px; text-align:justify;display:inline-block;\"> Eduardo Lince Gomez</span> \n"
   ]
  },
  {
   "cell_type": "markdown",
   "id": "9aa70309",
   "metadata": {},
   "source": [
    "\n",
    "## <span style=\"font-family:Georgia;\">Temario</span>\n",
    "\n",
    "<span style=\"font-family:serif; font-size:25px; text-align:justify;display:inline-block;\"> \n",
    "\n",
    "SOLUCIÓN NUMÉRICA DE PROBLEMAS DE VALOR INICIAL EN ECUACIONES DIFERENCIALES ORDINARIAS\n",
    "1. Método de Euler\n",
    "2. Generación de métodos de orden superior\n",
    "3. Métodos con memoria\n",
    "4. Método de Runge-Kutta  \n",
    "5. Problemas Stiff\n",
    "\n",
    "</span>"
   ]
  },
  {
   "cell_type": "markdown",
   "id": "923dc70f",
   "metadata": {},
   "source": [
    "## <span style=\"font-family:Georgia;\">Calificación</span>\n",
    "\n",
    "<span style=\"font-family:serif; font-size:35px; text-align:justify;display:inline-block;\"> \n",
    "\n",
    "- Trabajo en clase (30%)\n",
    "- Tareas (30%)\n",
    "- Exámenes (30%)\n",
    "- Proyecto final (10%)\n",
    "\n",
    "</span>"
   ]
  },
  {
   "cell_type": "markdown",
   "id": "130949ed",
   "metadata": {},
   "source": [
    "## <span style=\"font-family:Georgia;\">Objetivos del curso</span>\n",
    "<span style=\"font-family:serif; font-size:20px; text-align:justify;display:inline-block;\"> \n",
    "\n",
    "\n",
    "Al finalizar el semestre, el estudiante será capaz de:\n",
    "\n",
    "1. **Comprender** la formulación matemática de problemas de valor inicial y su importancia en la modelación de fenómenos físicos, biológicos o tecnológicos.\n",
    "\n",
    "2. **Analizar** la existencia, unicidad y estabilidad de soluciones de EDOs, reconociendo cuándo un problema está bien o mal planteado.\n",
    "\n",
    "3. **Aplicar** métodos numéricos básicos y avanzados (como Euler, Runge-Kutta, y métodos multi paso) para aproximar soluciones de EDOs.\n",
    "\n",
    "4. **Evaluar** la precisión y el comportamiento de los métodos a través de criterios como orden, consistencia, estabilidad y convergencia.\n",
    "\n",
    "5. **Implementar y comparar** algoritmos numéricos para EDOs en código (Python o similar), interpretando los resultados en el contexto del problema original.\n",
    "\n",
    "6. **Colaborar** efectivamente usando control de versiones y métodos de revisión de código.\n",
    "\n",
    "</span> "
   ]
  },
  {
   "cell_type": "markdown",
   "id": "ca4fdcc6",
   "metadata": {},
   "source": [
    "## <span style=\"font-family:Georgia;\">Método de trabajo</span>\n",
    "\n",
    "\n",
    "<span style=\"font-family:serif; font-size:30px; text-align:justify;display:inline-block;\">\n",
    "\n",
    "\n",
    "- **Trabajo en equipos**\n",
    "- **Examenes Presenciales/A Casa**\n",
    "</span> \n"
   ]
  },
  {
   "cell_type": "markdown",
   "id": "5b1eaf72",
   "metadata": {},
   "source": [
    "## <span style=\"font-family:Georgia;\">Tarea</span>\n",
    "\n",
    "<span style=\"font-family:serif; font-size:20px; text-align:justify;display:inline-block;\"> \n",
    "\n",
    "1. Descargar e instalar los siguientes programas: \n",
    "\n",
    "- [Python](https://www.python.org/downloads/)\n",
    "- [Visual Studio Code](https://code.visualstudio.com/download)\n",
    "- [Github Desktop](https://desktop.github.com/download/)\n",
    "\n",
    "2. Crear una cuenta en http://github.com/ con su correo de la universidad.\n",
    "</span> \n"
   ]
  }
 ],
 "metadata": {
  "kernelspec": {
   "display_name": "Python 3",
   "language": "python",
   "name": "python3"
  },
  "language_info": {
   "codemirror_mode": {
    "name": "ipython",
    "version": 3
   },
   "file_extension": ".py",
   "mimetype": "text/x-python",
   "name": "python",
   "nbconvert_exporter": "python",
   "pygments_lexer": "ipython3",
   "version": "3.13.1"
  }
 },
 "nbformat": 4,
 "nbformat_minor": 5
}
