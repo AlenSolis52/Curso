{
 "cells": [
  {
   "cell_type": "markdown",
   "id": "c0d87118",
   "metadata": {},
   "source": [
    "# <span style=\"font-family:Georgia; text-align:center;\">Metodos implícitos</span> "
   ]
  },
  {
   "cell_type": "markdown",
   "id": "e67e091e",
   "metadata": {},
   "source": [
    "## <span style=\"font-family:Georgia; text-align:center;\">Problema de valor inicial y forma integral</span> \n",
    "<span style=\"font-family:Georgia;\">\n",
    "\n",
    "Sea el PVI\n",
    "$$\n",
    "\\begin{cases}\n",
    "y'(t)=f(t,y(t)), \\quad t\\in[a,b],\\\\\n",
    "y(a)=y_0,\n",
    "\\end{cases}\n",
    "$$\n",
    " \n",
    "Integrando ambos lados de $y'(s)=f(s,y(s))$ desde $s=a$ hasta $s=t$ y usando el T.F.C. tenemos\n",
    "$$\n",
    "\\int_a^t y'(s)\\,ds \\;=\\; \\int_a^t f\\big(s,y(s)\\big)\\,ds\n",
    "\\;\\;\\Longrightarrow\\;\\;\n",
    "y(t)-y(a) \\;=\\; \\int_a^t f\\big(s,y(s)\\big)\\,ds.\n",
    "$$\n",
    "De sta manera obtenemos la **forma integral** de el PVI:\n",
    "$$\n",
    "y(t) \\;=\\; y(a) \\;+\\; \\int_a^t f\\big(s,\\,y(s)\\big)\\,ds.\n",
    "$$\n",
    "\n",
    "**Si ahora consideramos la forma integral en el intervalo** $[t_i,t_{i+1}]$, con $t_{i+1}=t_i+\\Delta t$, obtenemos:\n",
    "$$\n",
    "y(t_{i+1}) \\;=\\; y(t_i)\\;+\\;\\int_{t_i}^{t_{i+1}} f\\big(s,\\,y(s)\\big)\\,ds.\n",
    "$$\n",
    "\n",
    "La idea en los próximos métodos numéricos es  **aproximar la integral** por una fórmula de cuadratura.\n",
    "</span>\n"
   ]
  },
  {
   "cell_type": "markdown",
   "id": "bc2f48d0",
   "metadata": {},
   "source": [
    "\n",
    "## <span style=\"font-family:Georgia; text-align:center;\">Euler explícito</span> \n",
    "<span style=\"font-family:Georgia;\">\n",
    "\n",
    "En el intervalo $[t_i,t_{i+1}]$ podemos aproximar la integral con el extremo izquierdo del intervalo quedando:\n",
    "$$\n",
    "\\int_{t_i}^{t_{i+1}} f(s,y(s))\\,ds \\;\\approx\\; \\Delta t \\,f\\big(t_i,\\,y(t_i)\\big).\n",
    "$$\n",
    "\n",
    "Sustituyendo esta aproximación en la forma integral obtenemos el método numérico:\n",
    "$$\n",
    "\\hat{y}_{i+1} \\;=\\; \\hat{y}_i \\;+\\; \\Delta t\\,f(t_i,\\hat{y}_i).\n",
    "$$\n",
    "\n",
    "- Este método es **explícito** pues $\\hat{y}_{i+1}$ se obtiene con valores conocidos en $t_i$, es decir $f(t_i,\\hat{y}_i)$ es conocido porque podemos obtenerlos a partir de $y(t_0)=y(a)=y_0$."
   ]
  },
  {
   "cell_type": "markdown",
   "id": "60c8f816",
   "metadata": {},
   "source": [
    "## <span style=\"font-family:Georgia; text-align:center;\">Euler implícito</span> \n",
    "<span style=\"font-family:Georgia;\">\n",
    "\n",
    "Ahora, si usamos la aproximación de la integral por el extremo derecho de el intervalo $[t_i,t_{i+1}]$:\n",
    "$$\n",
    "\\int_{t_i}^{t_{i+1}} f(s,y(s))\\,ds \\;\\approx\\; \\Delta t\\,f\\big(t_{i+1},\\,y(t_{i+1})\\big).\n",
    "$$\n",
    "\n",
    "Sustituyendo en la forma integral obtenemos el método numérico:\n",
    "$$\n",
    "\\hat{y}_{i+1} \\;=\\; \\hat{y}_i \\;+\\; \\Delta t\\,f\\big(t_{i+1},\\,\\hat{y}_{i+1}\\big).\n",
    "$$\n",
    "\n",
    "- Es **implícito** pues $\\hat{y}_{i+1}$ aparece a ambos lados. En general este tipo de métodos requiere **resolver** una ecuación en $\\hat{y}_{i+1}$.\n",
    "\n",
    "Para implementar este método usaremos la estrategia *predictor–corrector* la cual consiste en aproximar el valor $\\hat{y}_{i+1}$ usando un paso de Euler explícito y luego usando esa aproximación en nuestro método (Euler implicito). La idea está desglozada en dos pasos:\n",
    "\n",
    "1. **Predictor:**\n",
    "   $$\n",
    "   \\tilde y_{i+1} \\;=\\; \\hat{y_i} \\;+\\; \\Delta t \\,f(t_i,\\hat{y_i}).\n",
    "   $$\n",
    "\n",
    "2. **Corrector:**\n",
    "   $$ \n",
    "   \\hat{y}_{i+1} \\;=\\; \\hat{y}_i \\;+\\; \\Delta t\\,f\\big(t_{i+1},\\,\\tilde y_{i+1}\\big).\n",
    "   $$\n",
    "\n",
    "> Se llama **predictor–corrector** porque primero **predices** con un método simple (explícito) y luego **corriges** insertando esa predicción en la fórmula implícita.\n",
    "\n",
    "Así, el método queda reescrito como:\n",
    "\n",
    "$$ \n",
    "   \\hat{y}_{i+1} \\;=\\; \\hat{y}_i \\;+\\; \\Delta t\\,f\\big(t_{i+1},\\,\\hat{y_i} \\;+\\; \\Delta t \\,f(t_i,\\hat{y_i})\\big).\n",
    "   $$\n"
   ]
  },
  {
   "cell_type": "markdown",
   "id": "042f5824",
   "metadata": {},
   "source": [
    "## <span style=\"font-family:Georgia; text-align:center;\">Método del trapecio</span> \n",
    "<span style=\"font-family:Georgia;\">\n",
    "\n",
    "Usando la aproximación del trapecio en la integral:\n",
    "$$\n",
    "\\int_{t_i}^{t_{i+1}} f(s,y(s))\\,ds \\;\\approx\\; \\frac{\\Delta t}{2}\\Big[f\\big(t_i,y(t_i)\\big)+f\\big(t_{i+1},y(t_{i+1})\\big)\\Big].\n",
    "$$\n",
    "\n",
    "De nuevo, usando la forma integral, obtenemos el método del trapecio:\n",
    "$$\n",
    "\\hat{y}_{i+1} \\;=\\; \\hat{y}_i \\;+\\; \\frac{\\Delta t}{2}\\Big[f(t_i,\\hat{y}_i)+f(t_{i+1},\\hat{y}_{i+1})\\Big].\n",
    "$$\n",
    "\n",
    "- Observemos que es un método **implícito** pues aparece $\\hat{y}_{i+1}$ dentro de $f$.\n",
    "\n",
    "### Predictor–corrector para Trapecio\n",
    "\n",
    "1. **Predictor (Euler explícito):**\n",
    "   $$\n",
    "   \\tilde y_{i+1} \\;=\\; \\hat{y}_i \\;+\\; h\\,f(t_i,\\hat{y}_i).\n",
    "   $$\n",
    "\n",
    "2. **Corrector (un paso de trapecio con la predicción):**\n",
    "   $$\n",
    "   \\hat{y}_{i+1} \\;=\\; \\hat{y}_i \\;+\\; \\frac{\\Delta t}{2}\\Big[f(t_i,\\hat{y}_i)+f\\big(t_{i+1},\\tilde y_{i+1}\\big)\\Big].\n",
    "   $$\n"
   ]
  },
  {
   "cell_type": "markdown",
   "id": "be82c927",
   "metadata": {},
   "source": [
    "# <span style=\"font-family:Georgia; text-align:center;\"> Bibliografía </span> \n",
    "<span style=\"font-family:Georgia;\">\n",
    "\n",
    "- A. Gezerlis, *Numerical Methods in Physics with Python*, 2ª ed., Cambridge University Press.\n",
    "- F. S. Guzman, *Numerical Methods for Initial Value Problems in Physics*, Springer."
   ]
  }
 ],
 "metadata": {
  "language_info": {
   "name": "python"
  }
 },
 "nbformat": 4,
 "nbformat_minor": 5
}
